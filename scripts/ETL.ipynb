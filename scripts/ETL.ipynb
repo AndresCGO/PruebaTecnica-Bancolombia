{
 "cells": [
  {
   "cell_type": "markdown",
   "metadata": {},
   "source": [
    "## Importamos Bibliotecas"
   ]
  },
  {
   "cell_type": "code",
   "execution_count": 4,
   "metadata": {},
   "outputs": [],
   "source": [
    "# Biblioteca pandas para el manejo de datos\n",
    "import pandas as pd"
   ]
  },
  {
   "cell_type": "markdown",
   "metadata": {},
   "source": [
    "# EXTRACCIÓN DE LOS DATOS\n"
   ]
  },
  {
   "cell_type": "code",
   "execution_count": 139,
   "metadata": {},
   "outputs": [],
   "source": [
    "# Extraemos la información de cada csv y se convierte en un dataframe\n",
    "canales = pd.read_csv('..\\\\data\\\\canales.csv', encoding='utf-8')\n",
    "clientes = pd.read_csv('..\\\\data\\\\clientes.csv', encoding='utf-8')\n",
    "transacciones = pd.read_csv('..\\\\data\\\\transacciones.csv', encoding='utf-8')"
   ]
  },
  {
   "cell_type": "markdown",
   "metadata": {},
   "source": [
    "# TRANSFORMACIÓN DE LOS DATOS "
   ]
  },
  {
   "cell_type": "code",
   "execution_count": 140,
   "metadata": {},
   "outputs": [],
   "source": [
    "# Eliminamos valores duplicados para canales teniendo en cuenta la columna 'codigo'\n",
    "canales.drop_duplicates(subset=['codigo'],inplace=True)\n",
    "# Eliminamos valores duplicados para clientes teniendo en cuenta la columna 'num_doc'\n",
    "clientes.drop_duplicates(subset=['num_doc'],inplace=True)"
   ]
  },
  {
   "cell_type": "code",
   "execution_count": 141,
   "metadata": {},
   "outputs": [
    {
     "name": "stdout",
     "output_type": "stream",
     "text": [
      "<class 'pandas.core.frame.DataFrame'>\n",
      "RangeIndex: 32974 entries, 0 to 32973\n",
      "Data columns (total 4 columns):\n",
      " #   Column            Non-Null Count  Dtype \n",
      "---  ------            --------------  ----- \n",
      " 0   codigo            32974 non-null  int64 \n",
      " 1   nombre            32974 non-null  object\n",
      " 2   tipo              32974 non-null  object\n",
      " 3   cod_jurisdiccion  32974 non-null  int64 \n",
      "dtypes: int64(2), object(2)\n",
      "memory usage: 1.0+ MB\n"
     ]
    }
   ],
   "source": [
    "canales.info()"
   ]
  },
  {
   "cell_type": "code",
   "execution_count": 142,
   "metadata": {},
   "outputs": [
    {
     "name": "stdout",
     "output_type": "stream",
     "text": [
      "<class 'pandas.core.frame.DataFrame'>\n",
      "Index: 698022 entries, 0 to 701051\n",
      "Data columns (total 5 columns):\n",
      " #   Column              Non-Null Count   Dtype  \n",
      "---  ------              --------------   -----  \n",
      " 0   tipo_doc            698022 non-null  object \n",
      " 1   num_doc             698022 non-null  int64  \n",
      " 2   nombre              698022 non-null  object \n",
      " 3   tipo_persona        698022 non-null  object \n",
      " 4   ingresos_mensuales  698022 non-null  float64\n",
      "dtypes: float64(1), int64(1), object(3)\n",
      "memory usage: 32.0+ MB\n"
     ]
    }
   ],
   "source": [
    "clientes.info()"
   ]
  },
  {
   "cell_type": "code",
   "execution_count": 143,
   "metadata": {},
   "outputs": [
    {
     "name": "stdout",
     "output_type": "stream",
     "text": [
      "<class 'pandas.core.frame.DataFrame'>\n",
      "RangeIndex: 2360614 entries, 0 to 2360613\n",
      "Data columns (total 6 columns):\n",
      " #   Column             Dtype  \n",
      "---  ------             -----  \n",
      " 0   fecha_transaccion  object \n",
      " 1   cod_canal          float64\n",
      " 2   tipo_doc           object \n",
      " 3   num_doc            int64  \n",
      " 4   naturaleza         object \n",
      " 5   monto              float64\n",
      "dtypes: float64(2), int64(1), object(3)\n",
      "memory usage: 108.1+ MB\n"
     ]
    }
   ],
   "source": [
    "transacciones.info()"
   ]
  },
  {
   "cell_type": "code",
   "execution_count": 144,
   "metadata": {},
   "outputs": [],
   "source": [
    "# Convertimos la columna de 'fecha_transaccion' de Object a datetime\n",
    "transacciones['fecha_transaccion'] = pd.to_datetime(transacciones['fecha_transaccion'])\n",
    "\n",
    "# Convertimos los columnas de datos correspondientes de Object a string\n",
    "transacciones['tipo_doc'] = transacciones['tipo_doc'].astype(\"string\")\n",
    "transacciones['naturaleza'] = transacciones['naturaleza'].astype(\"string\")\n",
    "clientes['tipo_doc'] = clientes['tipo_doc'].astype(\"string\")\n",
    "clientes['nombre'] = clientes['nombre'].astype(\"string\")\n",
    "clientes['tipo_persona'] = clientes['tipo_persona'].astype(\"string\")\n",
    "canales['nombre'] = canales['nombre'].astype(\"string\")\n",
    "canales['tipo'] = canales['tipo'].astype(\"string\")\n",
    "\n",
    "# Convertimos la columna de double a int para eliminar los decimales\n",
    "transacciones['cod_canal'] = transacciones['cod_canal'].astype(int)\n",
    "\n",
    "# Convertimos las columnas que se pueden convertir numero a string\n",
    "transacciones['num_doc'] = transacciones['num_doc'].astype(\"string\")\n",
    "transacciones['cod_canal'] = transacciones['cod_canal'].astype(\"string\")\n",
    "clientes['num_doc'] = clientes['num_doc'].astype(\"string\")\n",
    "canales['cod_jurisdiccion'] = canales['cod_jurisdiccion'].astype(\"string\")\n",
    "canales['codigo'] = canales['codigo'].astype(\"string\")"
   ]
  },
  {
   "cell_type": "markdown",
   "metadata": {},
   "source": [
    "# CARGA DE LOS DATOS"
   ]
  },
  {
   "cell_type": "code",
   "execution_count": 148,
   "metadata": {},
   "outputs": [],
   "source": [
    "import pyodbc\n",
    "from sqlalchemy import create_engine\n",
    "\n",
    "server = 'LAPTOP-E360B96B\\SQLEXPRESS'\n",
    "database = 'Prueba_bancolombia'\n",
    "\n",
    "engine = create_engine(f\"mssql+pyodbc://{server}/{database}?driver=ODBC+Driver+17+for+SQL+Server\")"
   ]
  },
  {
   "cell_type": "code",
   "execution_count": 149,
   "metadata": {},
   "outputs": [
    {
     "data": {
      "text/plain": [
       "327"
      ]
     },
     "execution_count": 149,
     "metadata": {},
     "output_type": "execute_result"
    }
   ],
   "source": [
    "# Insertar datos en la tabla clientes\n",
    "clientes.to_sql('clientes', engine, index=False, if_exists='replace')\n",
    "\n",
    "# Insertar datos en la tabla canales\n",
    "canales.to_sql('canales', engine, index=False, if_exists='replace')\n",
    "\n",
    "# Insertar datos en la tabla transacciones\n",
    "transacciones.to_sql('transacciones', engine, index=False, if_exists='replace')\n"
   ]
  }
 ],
 "metadata": {
  "kernelspec": {
   "display_name": "Python 3",
   "language": "python",
   "name": "python3"
  },
  "language_info": {
   "codemirror_mode": {
    "name": "ipython",
    "version": 3
   },
   "file_extension": ".py",
   "mimetype": "text/x-python",
   "name": "python",
   "nbconvert_exporter": "python",
   "pygments_lexer": "ipython3",
   "version": "3.11.4"
  }
 },
 "nbformat": 4,
 "nbformat_minor": 2
}
