{
 "cells": [
  {
   "cell_type": "markdown",
   "metadata": {},
   "source": [
    "## Importamos Bibliotecas"
   ]
  },
  {
   "cell_type": "code",
   "execution_count": 70,
   "metadata": {},
   "outputs": [],
   "source": [
    "# Biblioteca pandas para el manejo de datos\n",
    "import pandas as pd"
   ]
  },
  {
   "cell_type": "markdown",
   "metadata": {},
   "source": [
    "# EXTRACCIÓN DE LOS DATOS\n"
   ]
  },
  {
   "cell_type": "code",
   "execution_count": 71,
   "metadata": {},
   "outputs": [],
   "source": [
    "# Extraemos la información de cada csv y se convierte en un dataframe\n",
    "canales = pd.read_csv('..\\\\data\\\\canales.csv', encoding='utf-8')\n",
    "clientes = pd.read_csv('..\\\\data\\\\clientes.csv', encoding='utf-8')\n",
    "transacciones = pd.read_csv('..\\\\data\\\\transacciones.csv', encoding='utf-8')"
   ]
  },
  {
   "cell_type": "markdown",
   "metadata": {},
   "source": [
    "# TRANSFORMACIÓN DE LOS DATOS "
   ]
  },
  {
   "cell_type": "code",
   "execution_count": 72,
   "metadata": {},
   "outputs": [],
   "source": [
    "# Eliminamos valores duplicados para canales teniendo en cuenta la columna 'codigo'\n",
    "canales.drop_duplicates(subset=['codigo'],inplace=True)\n",
    "# Eliminamos valores duplicados para clientes teniendo en cuenta la columna 'num_doc'\n",
    "clientes.drop_duplicates(subset=['num_doc'],inplace=True)"
   ]
  },
  {
   "cell_type": "code",
   "execution_count": 73,
   "metadata": {},
   "outputs": [
    {
     "name": "stdout",
     "output_type": "stream",
     "text": [
      "<class 'pandas.core.frame.DataFrame'>\n",
      "RangeIndex: 32974 entries, 0 to 32973\n",
      "Data columns (total 4 columns):\n",
      " #   Column            Non-Null Count  Dtype \n",
      "---  ------            --------------  ----- \n",
      " 0   codigo            32974 non-null  int64 \n",
      " 1   nombre            32974 non-null  object\n",
      " 2   tipo              32974 non-null  object\n",
      " 3   cod_jurisdiccion  32974 non-null  int64 \n",
      "dtypes: int64(2), object(2)\n",
      "memory usage: 1.0+ MB\n"
     ]
    }
   ],
   "source": [
    "canales.info()"
   ]
  },
  {
   "cell_type": "code",
   "execution_count": 74,
   "metadata": {},
   "outputs": [
    {
     "name": "stdout",
     "output_type": "stream",
     "text": [
      "<class 'pandas.core.frame.DataFrame'>\n",
      "Index: 698022 entries, 0 to 701051\n",
      "Data columns (total 5 columns):\n",
      " #   Column              Non-Null Count   Dtype  \n",
      "---  ------              --------------   -----  \n",
      " 0   tipo_doc            698022 non-null  object \n",
      " 1   num_doc             698022 non-null  int64  \n",
      " 2   nombre              698022 non-null  object \n",
      " 3   tipo_persona        698022 non-null  object \n",
      " 4   ingresos_mensuales  698022 non-null  float64\n",
      "dtypes: float64(1), int64(1), object(3)\n",
      "memory usage: 32.0+ MB\n"
     ]
    }
   ],
   "source": [
    "clientes.info()"
   ]
  },
  {
   "cell_type": "code",
   "execution_count": 75,
   "metadata": {},
   "outputs": [
    {
     "name": "stdout",
     "output_type": "stream",
     "text": [
      "<class 'pandas.core.frame.DataFrame'>\n",
      "RangeIndex: 2360614 entries, 0 to 2360613\n",
      "Data columns (total 6 columns):\n",
      " #   Column             Dtype  \n",
      "---  ------             -----  \n",
      " 0   fecha_transaccion  object \n",
      " 1   cod_canal          float64\n",
      " 2   tipo_doc           object \n",
      " 3   num_doc            int64  \n",
      " 4   naturaleza         object \n",
      " 5   monto              float64\n",
      "dtypes: float64(2), int64(1), object(3)\n",
      "memory usage: 108.1+ MB\n"
     ]
    }
   ],
   "source": [
    "transacciones.info()"
   ]
  },
  {
   "cell_type": "code",
   "execution_count": 76,
   "metadata": {},
   "outputs": [],
   "source": [
    "# Convertimos la columna de 'fecha_transaccion' de Object a datetime\n",
    "transacciones['fecha_transaccion'] = pd.to_datetime(transacciones['fecha_transaccion'])\n",
    "\n",
    "# Convertimos los columnas de datos correspondientes de Object a string\n",
    "transacciones['tipo_doc'] = transacciones['tipo_doc'].astype(\"string\")\n",
    "transacciones['naturaleza'] = transacciones['naturaleza'].astype(\"string\")\n",
    "clientes['tipo_doc'] = clientes['tipo_doc'].astype(\"string\")\n",
    "clientes['nombre'] = clientes['nombre'].astype(\"string\")\n",
    "clientes['tipo_persona'] = clientes['tipo_persona'].astype(\"string\")\n",
    "canales['nombre'] = canales['nombre'].astype(\"string\")\n",
    "canales['tipo'] = canales['tipo'].astype(\"string\")\n",
    "\n",
    "# Convertimos la columna de double a int para eliminar los decimales\n",
    "transacciones['cod_canal'] = transacciones['cod_canal'].astype(int)\n",
    "\n",
    "# Convertimos las columnas que se pueden convertir numero a string\n",
    "transacciones['num_doc'] = transacciones['num_doc'].astype(\"string\")\n",
    "transacciones['cod_canal'] = transacciones['cod_canal'].astype(\"string\")\n",
    "clientes['num_doc'] = clientes['num_doc'].astype(\"string\")\n",
    "canales['cod_jurisdiccion'] = canales['cod_jurisdiccion'].astype(\"string\")\n",
    "canales['codigo'] = canales['codigo'].astype(\"string\")"
   ]
  },
  {
   "cell_type": "code",
   "execution_count": 77,
   "metadata": {},
   "outputs": [],
   "source": [
    "# Eliminar las filas donde cod_canal no coincide con los valores en df_canales\n",
    "transacciones = transacciones[transacciones['cod_canal'].isin(canales['codigo'])]"
   ]
  },
  {
   "cell_type": "markdown",
   "metadata": {},
   "source": [
    "# CARGA DE LOS DATOS"
   ]
  },
  {
   "cell_type": "code",
   "execution_count": 78,
   "metadata": {},
   "outputs": [],
   "source": [
    "import pyodbc\n",
    "from sqlalchemy import create_engine\n",
    "\n",
    "server = 'LAPTOP-E360B96B\\SQLEXPRESS'\n",
    "database = 'Prueba_bancolombia'\n",
    "\n",
    "engine = create_engine(f\"mssql+pyodbc://{server}/{database}?driver=ODBC+Driver+17+for+SQL+Server\")"
   ]
  },
  {
   "cell_type": "code",
   "execution_count": 79,
   "metadata": {},
   "outputs": [
    {
     "data": {
      "text/plain": [
       "307"
      ]
     },
     "execution_count": 79,
     "metadata": {},
     "output_type": "execute_result"
    }
   ],
   "source": [
    "# Insertar datos en la tabla clientes\n",
    "clientes.to_sql('clientes', engine, index=False, if_exists='append')\n",
    "\n",
    "# Insertar datos en la tabla canales\n",
    "canales.to_sql('canales', engine, index=False, if_exists='append')\n",
    "\n",
    "# Insertar datos en la tabla transacciones\n",
    "transacciones.to_sql('transacciones', engine, index=False, if_exists='append')\n"
   ]
  },
  {
   "cell_type": "markdown",
   "metadata": {},
   "source": [
    "# ANÁLISIS DESCRIPTIVO DE LOS DATOS "
   ]
  },
  {
   "cell_type": "code",
   "execution_count": 80,
   "metadata": {},
   "outputs": [
    {
     "name": "stdout",
     "output_type": "stream",
     "text": [
      "Resumen estadístico general de clientes:\n",
      "       ingresos_mensuales\n",
      "count        6.980220e+05\n",
      "mean         5.037177e+06\n",
      "std          2.883255e+06\n",
      "min          1.850000e+03\n",
      "25%          2.575704e+06\n",
      "50%          5.032722e+06\n",
      "75%          7.528875e+06\n",
      "max          9.995531e+06\n"
     ]
    }
   ],
   "source": [
    "# Resumen estadístico general de tabla clientes \n",
    "print(\"Resumen estadístico general de clientes:\")\n",
    "print(clientes.describe())"
   ]
  },
  {
   "cell_type": "code",
   "execution_count": 81,
   "metadata": {},
   "outputs": [
    {
     "name": "stdout",
     "output_type": "stream",
     "text": [
      "Resumen estadístico general de transacciones:\n",
      "                   fecha_transaccion         monto\n",
      "count                        2360594  2.360594e+06\n",
      "mean   2024-05-28 22:52:07.997105664  5.055470e+06\n",
      "min              2024-01-01 00:00:00  1.000000e+00\n",
      "25%              2024-03-04 00:00:00  1.000000e+05\n",
      "50%              2024-06-16 00:00:00  3.000000e+05\n",
      "75%              2024-08-09 00:00:00  1.000000e+06\n",
      "max              2024-10-07 00:00:00  4.775500e+10\n",
      "std                              NaN  1.633161e+08\n"
     ]
    }
   ],
   "source": [
    "# Resumen estadístico general de la tabla transacciones\n",
    "print(\"Resumen estadístico general de transacciones:\")\n",
    "print(transacciones.describe())"
   ]
  },
  {
   "cell_type": "code",
   "execution_count": 82,
   "metadata": {},
   "outputs": [
    {
     "name": "stdout",
     "output_type": "stream",
     "text": [
      "\n",
      "Número total de transacciones por cliente:\n",
      "num_doc\n",
      "-1000076379879933291     9\n",
      "-1000147930647869782    55\n",
      "-1000460014616510321    13\n",
      "-1000951368134169935     9\n",
      "-100101085567707252     12\n",
      "                        ..\n",
      "999050126532234206      13\n",
      "999075441145575820      78\n",
      "999126550605799708      33\n",
      "999389099053346505      54\n",
      "999575352248400936      19\n",
      "Length: 70553, dtype: int64\n"
     ]
    }
   ],
   "source": [
    "# Número total de transacciones por cliente\n",
    "transacciones_por_cliente = transacciones.groupby('num_doc').size()\n",
    "print(\"\\nNúmero total de transacciones por cliente:\")\n",
    "print(transacciones_por_cliente)"
   ]
  },
  {
   "cell_type": "code",
   "execution_count": 83,
   "metadata": {},
   "outputs": [
    {
     "name": "stdout",
     "output_type": "stream",
     "text": [
      "\n",
      "Monto total de transacciones por cliente:\n",
      "num_doc\n",
      "-1000076379879933291      2230000.0\n",
      "-1000147930647869782     21215000.0\n",
      "-1000460014616510321     10390000.0\n",
      "-1000951368134169935      5070000.0\n",
      "-100101085567707252       6120000.0\n",
      "                           ...     \n",
      "999050126532234206      345542384.0\n",
      "999075441145575820        6270000.0\n",
      "999126550605799708       60770000.0\n",
      "999389099053346505       10860000.0\n",
      "999575352248400936        2775000.0\n",
      "Name: monto, Length: 70553, dtype: float64\n"
     ]
    }
   ],
   "source": [
    "# Monto total de transacciones por cliente\n",
    "monto_total_por_cliente = transacciones.groupby('num_doc')['monto'].sum()\n",
    "print(\"\\nMonto total de transacciones por cliente:\")\n",
    "print(monto_total_por_cliente)"
   ]
  },
  {
   "cell_type": "code",
   "execution_count": 84,
   "metadata": {},
   "outputs": [
    {
     "name": "stdout",
     "output_type": "stream",
     "text": [
      "\n",
      "Distribución de los montos de las transacciones:\n",
      "count    2.360594e+06\n",
      "mean     5.055470e+06\n",
      "std      1.633161e+08\n",
      "min      1.000000e+00\n",
      "25%      1.000000e+05\n",
      "50%      3.000000e+05\n",
      "75%      1.000000e+06\n",
      "max      4.775500e+10\n",
      "Name: monto, dtype: float64\n"
     ]
    }
   ],
   "source": [
    "# Distribución de los montos de las transacciones\n",
    "print(\"\\nDistribución de los montos de las transacciones:\")\n",
    "print(transacciones['monto'].describe())"
   ]
  },
  {
   "cell_type": "code",
   "execution_count": 85,
   "metadata": {},
   "outputs": [
    {
     "name": "stdout",
     "output_type": "stream",
     "text": [
      "\n",
      "Media y mediana de ingresos mensuales por tipo de persona:\n",
      "                          mean     median\n",
      "tipo_persona                             \n",
      "-                 5.180662e+06  5177504.0\n",
      "NATURAL           4.814551e+06  5079649.5\n",
      "PERSONA JURIDICA  5.072947e+06  5082839.0\n",
      "PERSONA NATURAL   5.035913e+06  5028636.0\n"
     ]
    }
   ],
   "source": [
    "# Media y mediana de ingresos mensuales por tipo de persona\n",
    "ingresos_por_tipo_persona = clientes.groupby('tipo_persona')['ingresos_mensuales'].agg(['mean', 'median'])\n",
    "print(\"\\nMedia y mediana de ingresos mensuales por tipo de persona:\")\n",
    "print(ingresos_por_tipo_persona)"
   ]
  },
  {
   "cell_type": "code",
   "execution_count": 86,
   "metadata": {},
   "outputs": [
    {
     "name": "stdout",
     "output_type": "stream",
     "text": [
      "\n",
      "Media y mediana del monto total de transacciones por tipo de persona:\n",
      "                                                   mean     median\n",
      "tipo_doc                                                          \n",
      "-                                          1.417000e+08  2511847.5\n",
      "CEDULA DE CIUDADANIA                       1.053876e+06   300000.0\n",
      "CEDULA DE EXTRANJERIA                      1.368191e+06   300000.0\n",
      "DOCUMENTO VENEZOLANO/CARNET DIPLOMÁTICO    1.228372e+06   400000.0\n",
      "ID EXTRANJERO PN NO RESIDENTE EN COLOMBIA  9.313810e+05   550000.0\n",
      "NIT                                        1.013541e+07   865535.0\n",
      "PASAPORTE                                  1.149261e+06   400000.0\n",
      "REGISTRO CIVIL                             7.113704e+05   250000.0\n",
      "TARJETA DE IDENTIDAD                       6.556301e+05   200000.0\n"
     ]
    }
   ],
   "source": [
    "# Media y mediana del monto total de transacciones por tipo de persona\n",
    "monto_total_por_tipo_persona = transacciones.groupby('tipo_doc')['monto'].agg(['mean', 'median'])\n",
    "print(\"\\nMedia y mediana del monto total de transacciones por tipo de persona:\")\n",
    "print(monto_total_por_tipo_persona)"
   ]
  },
  {
   "cell_type": "code",
   "execution_count": 87,
   "metadata": {},
   "outputs": [
    {
     "name": "stdout",
     "output_type": "stream",
     "text": [
      "\n",
      "Frecuencia de uso de cada canal:\n",
      "cod_canal\n",
      "1000598    13254\n",
      "1000379     2461\n",
      "2030974     2367\n",
      "1000171     1547\n",
      "1000688     1496\n",
      "           ...  \n",
      "2072865        1\n",
      "2075173        1\n",
      "2068324        1\n",
      "2059744        1\n",
      "2059978        1\n",
      "Name: count, Length: 32974, dtype: Int64\n"
     ]
    }
   ],
   "source": [
    "# Frecuencia de uso de cada canal\n",
    "frecuencia_canales = transacciones['cod_canal'].value_counts()\n",
    "print(\"\\nFrecuencia de uso de cada canal:\")\n",
    "print(frecuencia_canales)"
   ]
  },
  {
   "cell_type": "code",
   "execution_count": 88,
   "metadata": {},
   "outputs": [
    {
     "name": "stdout",
     "output_type": "stream",
     "text": [
      "\n",
      "Distribución de montos de transacciones por canal:\n",
      "           count          mean           std      min        25%        50%  \\\n",
      "cod_canal                                                                     \n",
      "1000001    486.0  1.238511e+07  2.907473e+07    100.0   893753.5  3785254.0   \n",
      "1000002    255.0  1.207875e+07  2.096226e+07   2000.0  1946500.0  4700000.0   \n",
      "1000004    467.0  1.066075e+07  2.550484e+07  47119.0  1322770.0  4000000.0   \n",
      "1000005    536.0  1.741924e+07  4.978748e+07  20000.0  1285000.0  3500000.0   \n",
      "1000006    334.0  1.583475e+07  7.578914e+07  27726.0   957250.0  2956500.0   \n",
      "...          ...           ...           ...      ...        ...        ...   \n",
      "3009985     99.0  5.376768e+05  6.126237e+05  10000.0   100000.0   300000.0   \n",
      "3009986     27.0  5.755556e+05  6.436992e+05  20000.0   100000.0   450000.0   \n",
      "3009987    212.0  5.725943e+05  4.859069e+05  20000.0   150000.0   500000.0   \n",
      "3009988     85.0  3.484706e+05  3.975895e+05  20000.0   100000.0   200000.0   \n",
      "3009989     23.0  6.030435e+05  3.952035e+05  40000.0   280000.0   500000.0   \n",
      "\n",
      "                  75%          max  \n",
      "cod_canal                           \n",
      "1000001    11983086.5  418500000.0  \n",
      "1000002    11592500.0  145000000.0  \n",
      "1000004    10263830.0  350000000.0  \n",
      "1000005    11200000.0  338210000.0  \n",
      "1000006     9212000.0  950000000.0  \n",
      "...               ...          ...  \n",
      "3009985     1000000.0    2700000.0  \n",
      "3009986     1000000.0    2700000.0  \n",
      "3009987     1000000.0    2700000.0  \n",
      "3009988      500000.0    2000000.0  \n",
      "3009989     1000000.0    1500000.0  \n",
      "\n",
      "[32974 rows x 8 columns]\n"
     ]
    }
   ],
   "source": [
    "# Distribución de montos de transacciones por canal\n",
    "monto_por_canal = transacciones.groupby('cod_canal')['monto'].describe()\n",
    "print(\"\\nDistribución de montos de transacciones por canal:\")\n",
    "print(monto_por_canal)"
   ]
  }
 ],
 "metadata": {
  "kernelspec": {
   "display_name": "Python 3",
   "language": "python",
   "name": "python3"
  },
  "language_info": {
   "codemirror_mode": {
    "name": "ipython",
    "version": 3
   },
   "file_extension": ".py",
   "mimetype": "text/x-python",
   "name": "python",
   "nbconvert_exporter": "python",
   "pygments_lexer": "ipython3",
   "version": "3.11.4"
  }
 },
 "nbformat": 4,
 "nbformat_minor": 2
}
